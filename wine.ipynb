{
  "nbformat": 4,
  "nbformat_minor": 0,
  "metadata": {
    "colab": {
      "provenance": [],
      "authorship_tag": "ABX9TyOMp93pUUBIobdLXyxqF8If",
      "include_colab_link": true
    },
    "kernelspec": {
      "name": "python3",
      "display_name": "Python 3"
    },
    "language_info": {
      "name": "python"
    }
  },
  "cells": [
    {
      "cell_type": "markdown",
      "metadata": {
        "id": "view-in-github",
        "colab_type": "text"
      },
      "source": [
        "<a href=\"https://colab.research.google.com/github/dezzygc/WineData/blob/main/wine.ipynb\" target=\"_parent\"><img src=\"https://colab.research.google.com/assets/colab-badge.svg\" alt=\"Open In Colab\"/></a>"
      ]
    },
    {
      "cell_type": "code",
      "execution_count": null,
      "metadata": {
        "id": "UrypDdTXdRp4"
      },
      "outputs": [],
      "source": [
        "import pandas as pd\n",
        "import scipy.stats as stats\n",
        "import numpy as np\n",
        "import matplotlib.pyplot as plt\n",
        "import seaborn as sns"
      ]
    },
    {
      "cell_type": "code",
      "source": [
        "from google.colab import drive\n",
        "drive.mount('/content/drive')"
      ],
      "metadata": {
        "colab": {
          "base_uri": "https://localhost:8080/",
          "height": 0
        },
        "id": "_cOQFWG-dxAv",
        "outputId": "81773232-dcc3-4516-afdb-39eabddd59d2"
      },
      "execution_count": 2,
      "outputs": [
        {
          "output_type": "stream",
          "name": "stdout",
          "text": [
            "Mounted at /content/drive\n"
          ]
        }
      ]
    },
    {
      "cell_type": "code",
      "source": [
        "path = \"/content/drive/MyDrive/Colab Notebooks/ready_wine.csv\""
      ],
      "metadata": {
        "id": "i4aB2GNzey15"
      },
      "execution_count": 3,
      "outputs": []
    },
    {
      "cell_type": "code",
      "source": [
        "import warnings\n",
        "warnings.filterwarnings('ignore')"
      ],
      "metadata": {
        "id": "d-whkpOEE_p9"
      },
      "execution_count": 4,
      "outputs": []
    },
    {
      "cell_type": "code",
      "source": [
        "df = pd.read_csv(path)"
      ],
      "metadata": {
        "id": "zPj9xb5le_Iz"
      },
      "execution_count": 5,
      "outputs": []
    },
    {
      "cell_type": "code",
      "source": [
        "#removed fixed acidity due to high correlation\n",
        "# making new df with only feature variables\n",
        "x1 = df.iloc[:,1:11]\n",
        "\n",
        "# new df with only target variable (quality)\n",
        "y = df[['quality2']]"
      ],
      "metadata": {
        "id": "mxvr3RxjiDAY"
      },
      "execution_count": 6,
      "outputs": []
    },
    {
      "cell_type": "code",
      "source": [
        "# Normalize feature variables\n",
        "from sklearn.preprocessing import StandardScaler\n",
        "X_features = x1\n",
        "X = StandardScaler().fit_transform(x1)"
      ],
      "metadata": {
        "id": "kxhB_NYNkvbI",
        "colab": {
          "base_uri": "https://localhost:8080/",
          "height": 0
        },
        "outputId": "e70c0dad-cc90-45b1-f7e0-41b1a81ab46b"
      },
      "execution_count": 79,
      "outputs": [
        {
          "output_type": "execute_result",
          "data": {
            "text/plain": [
              "array([[ 0.96187667, -1.39147228, -0.45321841, ...,  1.28864292,\n",
              "        -0.57920652, -0.96024611],\n",
              "       [ 1.96744245, -1.39147228,  0.04341614, ..., -0.7199333 ,\n",
              "         0.1289504 , -0.58477711],\n",
              "       [ 1.29706527, -1.18607043, -0.16942723, ..., -0.33117661,\n",
              "        -0.04808883, -0.58477711],\n",
              "       ...,\n",
              "       [-0.09955388, -0.72391627, -0.16942723, ...,  0.70550789,\n",
              "         0.54204194,  0.54162988],\n",
              "       [ 0.65462046, -0.77526673, -0.38227061, ...,  1.6773996 ,\n",
              "         0.30598963, -0.20930812],\n",
              "       [-1.21684919,  1.02199944,  0.75289408, ...,  0.51112954,\n",
              "         0.01092425,  0.54162988]])"
            ]
          },
          "metadata": {},
          "execution_count": 79
        }
      ]
    },
    {
      "cell_type": "code",
      "source": [
        "#splitting dataframe into test and training sets\n",
        "from sklearn.model_selection import train_test_split\n",
        "x_train,x_test,y_train,y_test = train_test_split(X,y,test_size=0.25,random_state=0)"
      ],
      "metadata": {
        "id": "dR5k4_IbfSv2"
      },
      "execution_count": 134,
      "outputs": []
    },
    {
      "cell_type": "markdown",
      "source": [
        "# **`Decision tree classifier`**"
      ],
      "metadata": {
        "id": "ggqrGUvnmkbJ"
      }
    },
    {
      "cell_type": "code",
      "source": [
        "from sklearn.metrics import classification_report\n",
        "from sklearn.tree import DecisionTreeClassifier\n",
        "model1 = DecisionTreeClassifier(random_state=1)\n",
        "model1.fit(x_train, y_train)\n",
        "y_pred1 = model1.predict(x_test)\n",
        "print(classification_report(y_test, y_pred1))\n",
        "# lower accuracy for low and high quality wines..."
      ],
      "metadata": {
        "colab": {
          "base_uri": "https://localhost:8080/",
          "height": 0
        },
        "id": "CjoJtgigl4Bl",
        "outputId": "606ec154-28de-4d04-c82b-717aa4c7b3de"
      },
      "execution_count": 81,
      "outputs": [
        {
          "output_type": "stream",
          "name": "stdout",
          "text": [
            "              precision    recall  f1-score   support\n",
            "\n",
            "           1       0.15      0.12      0.14        16\n",
            "           2       0.91      0.86      0.88       339\n",
            "           3       0.39      0.58      0.46        45\n",
            "\n",
            "    accuracy                           0.80       400\n",
            "   macro avg       0.48      0.52      0.49       400\n",
            "weighted avg       0.82      0.80      0.80       400\n",
            "\n"
          ]
        }
      ]
    },
    {
      "cell_type": "code",
      "source": [
        "clf = DecisionTreeClassifier(max_leaf_nodes=3, random_state=0)\n",
        "clf.fit(x_train, y_train)"
      ],
      "metadata": {
        "colab": {
          "base_uri": "https://localhost:8080/",
          "height": 74
        },
        "id": "hHvJKQhL-GO7",
        "outputId": "64c675d6-ccc7-43f7-801e-f68184200f23"
      },
      "execution_count": 105,
      "outputs": [
        {
          "output_type": "execute_result",
          "data": {
            "text/plain": [
              "DecisionTreeClassifier(max_leaf_nodes=3, random_state=0)"
            ],
            "text/html": [
              "<style>#sk-container-id-2 {color: black;background-color: white;}#sk-container-id-2 pre{padding: 0;}#sk-container-id-2 div.sk-toggleable {background-color: white;}#sk-container-id-2 label.sk-toggleable__label {cursor: pointer;display: block;width: 100%;margin-bottom: 0;padding: 0.3em;box-sizing: border-box;text-align: center;}#sk-container-id-2 label.sk-toggleable__label-arrow:before {content: \"▸\";float: left;margin-right: 0.25em;color: #696969;}#sk-container-id-2 label.sk-toggleable__label-arrow:hover:before {color: black;}#sk-container-id-2 div.sk-estimator:hover label.sk-toggleable__label-arrow:before {color: black;}#sk-container-id-2 div.sk-toggleable__content {max-height: 0;max-width: 0;overflow: hidden;text-align: left;background-color: #f0f8ff;}#sk-container-id-2 div.sk-toggleable__content pre {margin: 0.2em;color: black;border-radius: 0.25em;background-color: #f0f8ff;}#sk-container-id-2 input.sk-toggleable__control:checked~div.sk-toggleable__content {max-height: 200px;max-width: 100%;overflow: auto;}#sk-container-id-2 input.sk-toggleable__control:checked~label.sk-toggleable__label-arrow:before {content: \"▾\";}#sk-container-id-2 div.sk-estimator input.sk-toggleable__control:checked~label.sk-toggleable__label {background-color: #d4ebff;}#sk-container-id-2 div.sk-label input.sk-toggleable__control:checked~label.sk-toggleable__label {background-color: #d4ebff;}#sk-container-id-2 input.sk-hidden--visually {border: 0;clip: rect(1px 1px 1px 1px);clip: rect(1px, 1px, 1px, 1px);height: 1px;margin: -1px;overflow: hidden;padding: 0;position: absolute;width: 1px;}#sk-container-id-2 div.sk-estimator {font-family: monospace;background-color: #f0f8ff;border: 1px dotted black;border-radius: 0.25em;box-sizing: border-box;margin-bottom: 0.5em;}#sk-container-id-2 div.sk-estimator:hover {background-color: #d4ebff;}#sk-container-id-2 div.sk-parallel-item::after {content: \"\";width: 100%;border-bottom: 1px solid gray;flex-grow: 1;}#sk-container-id-2 div.sk-label:hover label.sk-toggleable__label {background-color: #d4ebff;}#sk-container-id-2 div.sk-serial::before {content: \"\";position: absolute;border-left: 1px solid gray;box-sizing: border-box;top: 0;bottom: 0;left: 50%;z-index: 0;}#sk-container-id-2 div.sk-serial {display: flex;flex-direction: column;align-items: center;background-color: white;padding-right: 0.2em;padding-left: 0.2em;position: relative;}#sk-container-id-2 div.sk-item {position: relative;z-index: 1;}#sk-container-id-2 div.sk-parallel {display: flex;align-items: stretch;justify-content: center;background-color: white;position: relative;}#sk-container-id-2 div.sk-item::before, #sk-container-id-2 div.sk-parallel-item::before {content: \"\";position: absolute;border-left: 1px solid gray;box-sizing: border-box;top: 0;bottom: 0;left: 50%;z-index: -1;}#sk-container-id-2 div.sk-parallel-item {display: flex;flex-direction: column;z-index: 1;position: relative;background-color: white;}#sk-container-id-2 div.sk-parallel-item:first-child::after {align-self: flex-end;width: 50%;}#sk-container-id-2 div.sk-parallel-item:last-child::after {align-self: flex-start;width: 50%;}#sk-container-id-2 div.sk-parallel-item:only-child::after {width: 0;}#sk-container-id-2 div.sk-dashed-wrapped {border: 1px dashed gray;margin: 0 0.4em 0.5em 0.4em;box-sizing: border-box;padding-bottom: 0.4em;background-color: white;}#sk-container-id-2 div.sk-label label {font-family: monospace;font-weight: bold;display: inline-block;line-height: 1.2em;}#sk-container-id-2 div.sk-label-container {text-align: center;}#sk-container-id-2 div.sk-container {/* jupyter's `normalize.less` sets `[hidden] { display: none; }` but bootstrap.min.css set `[hidden] { display: none !important; }` so we also need the `!important` here to be able to override the default hidden behavior on the sphinx rendered scikit-learn.org. See: https://github.com/scikit-learn/scikit-learn/issues/21755 */display: inline-block !important;position: relative;}#sk-container-id-2 div.sk-text-repr-fallback {display: none;}</style><div id=\"sk-container-id-2\" class=\"sk-top-container\"><div class=\"sk-text-repr-fallback\"><pre>DecisionTreeClassifier(max_leaf_nodes=3, random_state=0)</pre><b>In a Jupyter environment, please rerun this cell to show the HTML representation or trust the notebook. <br />On GitHub, the HTML representation is unable to render, please try loading this page with nbviewer.org.</b></div><div class=\"sk-container\" hidden><div class=\"sk-item\"><div class=\"sk-estimator sk-toggleable\"><input class=\"sk-toggleable__control sk-hidden--visually\" id=\"sk-estimator-id-2\" type=\"checkbox\" checked><label for=\"sk-estimator-id-2\" class=\"sk-toggleable__label sk-toggleable__label-arrow\">DecisionTreeClassifier</label><div class=\"sk-toggleable__content\"><pre>DecisionTreeClassifier(max_leaf_nodes=3, random_state=0)</pre></div></div></div></div></div>"
            ]
          },
          "metadata": {},
          "execution_count": 105
        }
      ]
    },
    {
      "cell_type": "code",
      "source": [
        "from sklearn import tree\n",
        "tree.plot_tree(clf)\n",
        "plt.show()"
      ],
      "metadata": {
        "colab": {
          "base_uri": "https://localhost:8080/",
          "height": 248
        },
        "id": "t-AKjA7s9ZBT",
        "outputId": "32778730-69c8-43b1-bd67-e41eb5feb902"
      },
      "execution_count": 106,
      "outputs": [
        {
          "output_type": "display_data",
          "data": {
            "text/plain": [
              "<Figure size 432x288 with 1 Axes>"
            ],
            "image/png": "[encoded data removed]"
          },
          "metadata": {
            "needs_background": "light"
          }
        }
      ]
    },
    {
      "cell_type": "markdown",
      "source": [
        "Macro average = averaging the total true positives, false negatives and false positives, corresponds to accuracy.\n",
        "\n",
        "precision is the ratio tp / (tp + fp) where tp is the number of true positives and fp the number of false positives. The precision is intuitively the ability of the classifier not to label a negative sample as positive.\n",
        "\n",
        "The recall is the ratio tp / (tp + fn) where tp is the number of true positives and fn the number of false negatives. The recall is intuitively the ability of the classifier to find all the positive samples.\n",
        "\n",
        "The F-beta score can be interpreted as a weighted harmonic mean of the precision and recall, where an F-beta score reaches its best value at 1 and worst score at 0.\n",
        "\n",
        "The support is the number of occurrences of each class in y_true."
      ],
      "metadata": {
        "id": "RK1d-lx8nnc8"
      }
    },
    {
      "cell_type": "markdown",
      "source": [
        "# **Random Forest classifier**\n"
      ],
      "metadata": {
        "id": "0XwIadaFozKr"
      }
    },
    {
      "cell_type": "code",
      "source": [
        "from sklearn.ensemble import RandomForestClassifier\n",
        "model2 = RandomForestClassifier(random_state=1)\n",
        "model2.fit(x_train, y_train)\n",
        "y_pred2 = model2.predict(x_test)\n",
        "print(classification_report(y_test, y_pred2))\n",
        "#best overall accuracy but performs very poorly for low quality wines"
      ],
      "metadata": {
        "colab": {
          "base_uri": "https://localhost:8080/"
        },
        "id": "iJ3A5NMKo5PN",
        "outputId": "9aac240c-4fc6-471f-c053-ec25a8d1f107"
      },
      "execution_count": null,
      "outputs": [
        {
          "output_type": "stream",
          "name": "stderr",
          "text": [
            "<ipython-input-27-c4fd206e443f>:3: DataConversionWarning: A column-vector y was passed when a 1d array was expected. Please change the shape of y to (n_samples,), for example using ravel().\n",
            "  model2.fit(x_train, y_train)\n"
          ]
        },
        {
          "output_type": "stream",
          "name": "stdout",
          "text": [
            "              precision    recall  f1-score   support\n",
            "\n",
            "           1       0.00      0.00      0.00        16\n",
            "           2       0.91      0.96      0.93       339\n",
            "           3       0.66      0.60      0.63        45\n",
            "\n",
            "    accuracy                           0.88       400\n",
            "   macro avg       0.52      0.52      0.52       400\n",
            "weighted avg       0.84      0.88      0.86       400\n",
            "\n"
          ]
        }
      ]
    },
    {
      "cell_type": "markdown",
      "source": [
        "# **Boosting alogrithms**"
      ],
      "metadata": {
        "id": "-g046aMSqhfh"
      }
    },
    {
      "cell_type": "code",
      "source": [
        "#AdaBoost classifiers\n",
        "from sklearn.ensemble import AdaBoostClassifier\n",
        "model3 = AdaBoostClassifier(random_state=1)\n",
        "model3.fit(x_train, y_train)\n",
        "y_pred3 = model3.predict(x_test)\n",
        "print(classification_report(y_test, y_pred3))"
      ],
      "metadata": {
        "colab": {
          "base_uri": "https://localhost:8080/"
        },
        "id": "Rk1rmjz8ql-n",
        "outputId": "ba050b51-e772-42c2-eebe-3cb1ab6bc9fd"
      },
      "execution_count": null,
      "outputs": [
        {
          "output_type": "stream",
          "name": "stderr",
          "text": [
            "/usr/local/lib/python3.8/dist-packages/sklearn/utils/validation.py:1143: DataConversionWarning: A column-vector y was passed when a 1d array was expected. Please change the shape of y to (n_samples, ), for example using ravel().\n",
            "  y = column_or_1d(y, warn=True)\n"
          ]
        },
        {
          "output_type": "stream",
          "name": "stdout",
          "text": [
            "              precision    recall  f1-score   support\n",
            "\n",
            "           1       0.16      0.19      0.17        16\n",
            "           2       0.91      0.83      0.87       339\n",
            "           3       0.39      0.62      0.48        45\n",
            "\n",
            "    accuracy                           0.78       400\n",
            "   macro avg       0.49      0.55      0.51       400\n",
            "weighted avg       0.82      0.78      0.80       400\n",
            "\n"
          ]
        }
      ]
    },
    {
      "cell_type": "code",
      "source": [
        "#gradient boosting\n",
        "from sklearn.ensemble import GradientBoostingClassifier\n",
        "model4 = GradientBoostingClassifier(random_state=1)\n",
        "model4.fit(x_train, y_train)\n",
        "y_pred4 = model4.predict(x_test)\n",
        "print(classification_report(y_test, y_pred4))"
      ],
      "metadata": {
        "colab": {
          "base_uri": "https://localhost:8080/"
        },
        "id": "i7qGTR2VrmFr",
        "outputId": "d81dc698-db71-4aa7-f4bb-ba5967b2afda"
      },
      "execution_count": null,
      "outputs": [
        {
          "output_type": "stream",
          "name": "stderr",
          "text": [
            "/usr/local/lib/python3.8/dist-packages/sklearn/ensemble/_gb.py:437: DataConversionWarning: A column-vector y was passed when a 1d array was expected. Please change the shape of y to (n_samples, ), for example using ravel().\n",
            "  y = column_or_1d(y, warn=True)\n"
          ]
        },
        {
          "output_type": "stream",
          "name": "stdout",
          "text": [
            "              precision    recall  f1-score   support\n",
            "\n",
            "           1       0.00      0.00      0.00        16\n",
            "           2       0.90      0.93      0.91       339\n",
            "           3       0.57      0.53      0.55        45\n",
            "\n",
            "    accuracy                           0.85       400\n",
            "   macro avg       0.49      0.49      0.49       400\n",
            "weighted avg       0.82      0.85      0.84       400\n",
            "\n"
          ]
        }
      ]
    },
    {
      "cell_type": "code",
      "source": [
        "path = \"/content/drive/MyDrive/Colab Notebooks/ready_wine2.csv\""
      ],
      "metadata": {
        "id": "cj61u2X45i5Y"
      },
      "execution_count": 91,
      "outputs": []
    },
    {
      "cell_type": "code",
      "source": [
        "dfnew = pd.read_csv(path)\n",
        "ynew = dfnew[['quality3']]\n",
        "xnew = dfnew.iloc[:,1:11]"
      ],
      "metadata": {
        "id": "m2wcaVrY5rGL"
      },
      "execution_count": null,
      "outputs": []
    },
    {
      "cell_type": "code",
      "source": [
        "from sklearn.preprocessing import StandardScaler\n",
        "X_features = xnew\n",
        "Xnew = StandardScaler().fit_transform(xnew)"
      ],
      "metadata": {
        "id": "j_CLbIAl6Ojc"
      },
      "execution_count": null,
      "outputs": []
    },
    {
      "cell_type": "code",
      "source": [
        "#splitting dataframe into test and training sets\n",
        "from sklearn.model_selection import train_test_split\n",
        "x_train,x_test,y_train,y_test = train_test_split(Xnew,ynew,test_size=0.25,random_state=0)"
      ],
      "metadata": {
        "id": "rlLtDLDq6XTV"
      },
      "execution_count": 97,
      "outputs": []
    },
    {
      "cell_type": "code",
      "source": [
        "#XG Boost classifier\n",
        "import xgboost as xgb\n",
        "model5 = xgb.XGBClassifier(random_state=1)\n",
        "model5.fit(x_train, y_train)\n",
        "y_pred5 = model5.predict(x_test)\n",
        "print(classification_report(y_test, y_pred5))\n",
        "#better at classifying low and high quality than previous models"
      ],
      "metadata": {
        "colab": {
          "base_uri": "https://localhost:8080/",
          "height": 0
        },
        "id": "0CxQ0UqpsM1P",
        "outputId": "07c1761c-fdfd-4daa-f6c4-3ce21d5763ac"
      },
      "execution_count": 98,
      "outputs": [
        {
          "output_type": "stream",
          "name": "stdout",
          "text": [
            "              precision    recall  f1-score   support\n",
            "\n",
            "           0       0.40      0.11      0.17        19\n",
            "           1       0.88      0.94      0.91       325\n",
            "           2       0.65      0.59      0.62        56\n",
            "\n",
            "    accuracy                           0.85       400\n",
            "   macro avg       0.64      0.54      0.56       400\n",
            "weighted avg       0.83      0.85      0.83       400\n",
            "\n"
          ]
        }
      ]
    },
    {
      "cell_type": "code",
      "source": [
        "feat_importances = pd.Series(model2.feature_importances_, index=X_features.columns)\n",
        "feat_importances.nlargest(25).plot(kind='barh',figsize=(10,10))"
      ],
      "metadata": {
        "colab": {
          "base_uri": "https://localhost:8080/",
          "height": 610
        },
        "id": "g8yu947B7YGc",
        "outputId": "7a7e5134-8df5-4115-c6fd-3acea784aac3"
      },
      "execution_count": 99,
      "outputs": [
        {
          "output_type": "execute_result",
          "data": {
            "text/plain": [
              "<AxesSubplot:>"
            ]
          },
          "metadata": {},
          "execution_count": 99
        },
        {
          "output_type": "display_data",
          "data": {
            "text/plain": [
              "<Figure size 720x720 with 1 Axes>"
            ],
            "image/png": "[encoded data removed]"
          },
          "metadata": {
            "needs_background": "light"
          }
        }
      ]
    },
    {
      "cell_type": "code",
      "source": [
        "feat_importances = pd.Series(model5.feature_importances_, index=X_features.columns)\n",
        "feat_importances.nlargest(25).plot(kind='barh',figsize=(10,10))"
      ],
      "metadata": {
        "colab": {
          "base_uri": "https://localhost:8080/",
          "height": 610
        },
        "id": "ibLCkOQy75Km",
        "outputId": "54888849-1db3-46e0-95ad-7a966e193daf"
      },
      "execution_count": 100,
      "outputs": [
        {
          "output_type": "execute_result",
          "data": {
            "text/plain": [
              "<AxesSubplot:>"
            ]
          },
          "metadata": {},
          "execution_count": 100
        },
        {
          "output_type": "display_data",
          "data": {
            "text/plain": [
              "<Figure size 720x720 with 1 Axes>"
            ],
            "image/png": "[encoded data removed]"
          },
          "metadata": {
            "needs_background": "light"
          }
        }
      ]
    },
    {
      "cell_type": "markdown",
      "source": [
        "# **Normalization requirement**"
      ],
      "metadata": {
        "id": "oeOsZKTtHdq4"
      }
    },
    {
      "cell_type": "code",
      "source": [
        "from sklearn.preprocessing import StandardScaler\n",
        "from sklearn.model_selection import train_test_split\n",
        "\n",
        "# making new df with only feature variables\n",
        "X = df.iloc[:,1:11]\n",
        "\n",
        "# new df with only target variable (quality)\n",
        "#y = df[['quality2']]\n",
        "#y = y.iloc[[:, 1]]\n",
        "\n",
        "scaler = StandardScaler().set_output(transform=\"pandas\")"
      ],
      "metadata": {
        "id": "vkNGARAIH9eJ"
      },
      "execution_count": 21,
      "outputs": []
    },
    {
      "cell_type": "code",
      "source": [
        "#y = y['quality2']\n",
        "y"
      ],
      "metadata": {
        "id": "alXnuh7kO6B2"
      },
      "execution_count": null,
      "outputs": []
    },
    {
      "cell_type": "code",
      "source": [
        "#splitting dataframe into test and training sets\n",
        "x_train,x_test,y_train,y_test = train_test_split(X,y,test_size=0.30,random_state=42\n",
        ")\n",
        "\n",
        "scaled_X_train = scaler.fit_transform(x_train) "
      ],
      "metadata": {
        "id": "rALw6XOEMhtG"
      },
      "execution_count": 23,
      "outputs": []
    },
    {
      "cell_type": "code",
      "source": [
        "from sklearn import svm, datasets\n",
        "from sklearn.metrics import ConfusionMatrixDisplay\n",
        "from sklearn.metrics import classification_report\n",
        "\n",
        "class_names = print(X.keys())"
      ],
      "metadata": {
        "id": "k2nyL-k9RXSC"
      },
      "execution_count": null,
      "outputs": []
    },
    {
      "cell_type": "code",
      "source": [
        "# Split the data into a training set and a test set\n",
        "X_train, X_test, y_train, y_test = train_test_split(X, y, random_state=0)\n",
        "\n",
        "# Run classifier, using a model that is too regularized (C too low) to see\n",
        "# the impact on the results\n",
        "classifier = svm.SVC(kernel=\"linear\", C=0.01).fit(X_train, y_train)\n",
        "\n",
        "np.set_printoptions(precision=2)\n"
      ],
      "metadata": {
        "id": "jxV9IvBqSkQu"
      },
      "execution_count": 52,
      "outputs": []
    },
    {
      "cell_type": "code",
      "source": [
        "# Plot non-normalized confusion matrix\n",
        "titles_options = [\n",
        "    (\"Confusion matrix, without normalization\", None),\n",
        "    (\"Normalized confusion matrix\", \"true\"),\n",
        "]\n",
        "for title, normalize in titles_options:\n",
        "    disp = ConfusionMatrixDisplay.from_estimator(\n",
        "        classifier,\n",
        "        X_test,\n",
        "        y_test,\n",
        "        display_labels=class_names,\n",
        "        cmap=plt.cm.Blues,\n",
        "        normalize=normalize,\n",
        "    )\n",
        "    disp.ax_.set_title(title)\n",
        "\n",
        "    print(title)\n",
        "    print(disp.confusion_matrix)\n",
        "\n",
        "plt.show()"
      ],
      "metadata": {
        "colab": {
          "base_uri": "https://localhost:8080/",
          "height": 718
        },
        "id": "C62jA8OoSwzr",
        "outputId": "36078ce6-e30c-43f5-e6ff-53d2ae71c381"
      },
      "execution_count": 50,
      "outputs": [
        {
          "output_type": "stream",
          "name": "stdout",
          "text": [
            "Confusion matrix, without normalization\n",
            "[[  0  16   0]\n",
            " [  0 339   0]\n",
            " [  0  45   0]]\n",
            "Normalized confusion matrix\n",
            "[[0. 1. 0.]\n",
            " [0. 1. 0.]\n",
            " [0. 1. 0.]]\n"
          ]
        },
        {
          "output_type": "display_data",
          "data": {
            "text/plain": [
              "<Figure size 432x288 with 2 Axes>"
            ],
            "image/png": "[encoded data removed]"
          },
          "metadata": {
            "needs_background": "light"
          }
        },
        {
          "output_type": "display_data",
          "data": {
            "text/plain": [
              "<Figure size 432x288 with 2 Axes>"
            ],
            "image/png": "[encoded data removed]"
          },
          "metadata": {
            "needs_background": "light"
          }
        }
      ]
    },
    {
      "cell_type": "markdown",
      "source": [
        "#**Support Vector Machine Classifier**\n",
        "\n",
        "\n"
      ],
      "metadata": {
        "id": "ReeTmuqtfV5z"
      }
    },
    {
      "cell_type": "code",
      "source": [
        "X_train, X_test, y_train, y_test = train_test_split(X, y, random_state=0)\n",
        "\n",
        "# Run classifier, using a model that is too regularized (C too low) to see the impact on the results\n",
        "\n",
        "model7 = svm.SVC(kernel=\"linear\", C=0.01)\n",
        "model7.fit(X_train, y_train)\n",
        "y_pred7 = model7.predict(X_test)\n",
        "print(classification_report(y_test, y_pred7))\n",
        "\n",
        "np.set_printoptions(precision=2)"
      ],
      "metadata": {
        "colab": {
          "base_uri": "https://localhost:8080/",
          "height": 0
        },
        "id": "a1-flHTgTVgW",
        "outputId": "9dd8a35f-515e-4140-ba03-d7ac434ffb8c"
      },
      "execution_count": 53,
      "outputs": [
        {
          "output_type": "stream",
          "name": "stdout",
          "text": [
            "              precision    recall  f1-score   support\n",
            "\n",
            "           1       0.00      0.00      0.00        16\n",
            "           2       0.85      1.00      0.92       339\n",
            "           3       0.00      0.00      0.00        45\n",
            "\n",
            "    accuracy                           0.85       400\n",
            "   macro avg       0.28      0.33      0.31       400\n",
            "weighted avg       0.72      0.85      0.78       400\n",
            "\n"
          ]
        }
      ]
    },
    {
      "cell_type": "code",
      "source": [
        "class1 = 1599 / (3 * 63)\n",
        "class2 = 1599 / (3 * 1319)\n",
        "class3 = 1599 / (3 * 217)\n"
      ],
      "metadata": {
        "id": "kbU-5EJaaFta"
      },
      "execution_count": null,
      "outputs": []
    },
    {
      "cell_type": "code",
      "source": [
        "class_weight = {1: 8.5,\n",
        "                2: 0.40,\n",
        "                3: 2.5}\n"
      ],
      "metadata": {
        "id": "VBwrzF60WHOX"
      },
      "execution_count": 60,
      "outputs": []
    },
    {
      "cell_type": "markdown",
      "source": [
        "wj=n_samples / (n_classes * n_samplesj)\n",
        "\n",
        "wj is the weight for each class(j signifies the class)\n",
        "\n",
        "n_samplesis the total number of samples or rows in the dataset\n",
        "\n",
        "n_classesis the total number of unique classes in the target\n",
        "\n",
        "n_samplesjis the total number of rows of the respective class\n"
      ],
      "metadata": {
        "id": "jVnfUkPRaHoG"
      }
    },
    {
      "cell_type": "code",
      "source": [
        "X_train, X_test, y_train, y_test = train_test_split(X, y, random_state=0)\n",
        "\n",
        "model7 = svm.SVC(kernel=\"linear\", C=100.0, class_weight=class_weight)\n",
        "model7.fit(X_train, y_train)\n",
        "y_pred7 = model7.predict(X_test)\n",
        "print(classification_report(y_test, y_pred7))\n",
        "\n",
        "#np.set_printoptions(precision=2)"
      ],
      "metadata": {
        "colab": {
          "base_uri": "https://localhost:8080/",
          "height": 0
        },
        "id": "FfPwaoRjZRmA",
        "outputId": "3f8351d4-3876-43e0-ef1d-e699b2fe2b5b"
      },
      "execution_count": 68,
      "outputs": [
        {
          "output_type": "stream",
          "name": "stdout",
          "text": [
            "              precision    recall  f1-score   support\n",
            "\n",
            "           1       0.08      0.50      0.14        16\n",
            "           2       0.96      0.46      0.62       339\n",
            "           3       0.28      0.87      0.42        45\n",
            "\n",
            "    accuracy                           0.51       400\n",
            "   macro avg       0.44      0.61      0.39       400\n",
            "weighted avg       0.85      0.51      0.58       400\n",
            "\n"
          ]
        }
      ]
    },
    {
      "cell_type": "code",
      "source": [
        "X_train, X_test, y_train, y_test = train_test_split(X, y, random_state=0)\n",
        "\n",
        "model7 = svm.SVC(kernel=\"linear\", C=10.0, class_weight=class_weight)\n",
        "model7.fit(X_train, y_train)\n",
        "y_pred7 = model7.predict(X_test)\n",
        "print(classification_report(y_test, y_pred7))\n",
        "\n",
        "np.set_printoptions(precision=2)"
      ],
      "metadata": {
        "colab": {
          "base_uri": "https://localhost:8080/",
          "height": 0
        },
        "id": "iyErZ60Uep5o",
        "outputId": "f458c49b-2340-45b9-a4e0-cee2422161b7"
      },
      "execution_count": 67,
      "outputs": [
        {
          "output_type": "stream",
          "name": "stdout",
          "text": [
            "              precision    recall  f1-score   support\n",
            "\n",
            "           1       0.09      0.50      0.15        16\n",
            "           2       0.96      0.47      0.63       339\n",
            "           3       0.28      0.87      0.42        45\n",
            "\n",
            "    accuracy                           0.52       400\n",
            "   macro avg       0.44      0.61      0.40       400\n",
            "weighted avg       0.85      0.52      0.59       400\n",
            "\n"
          ]
        }
      ]
    }
  ]
}